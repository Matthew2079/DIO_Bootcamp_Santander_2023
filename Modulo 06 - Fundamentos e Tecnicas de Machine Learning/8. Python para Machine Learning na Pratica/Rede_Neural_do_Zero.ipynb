{
  "nbformat": 4,
  "nbformat_minor": 0,
  "metadata": {
    "colab": {
      "provenance": []
    },
    "kernelspec": {
      "name": "python3",
      "display_name": "Python 3"
    },
    "language_info": {
      "name": "python"
    }
  },
  "cells": [
    {
      "cell_type": "code",
      "execution_count": 77,
      "metadata": {
        "id": "V4Acrl4isymF"
      },
      "outputs": [],
      "source": [
        "import numpy as np\n",
        "import torch\n",
        "import torch.nn.functional as F\n",
        "import matplotlib.pyplot as plt\n",
        "from time import time\n",
        "from torchvision import datasets, transforms\n",
        "from torch import nn, optim"
      ]
    },
    {
      "cell_type": "code",
      "source": [
        "transform = transforms.ToTensor() #definindo a conversão de imagem para tensor\n",
        "\n",
        "trainset = datasets.MNIST('./MNIST_data/', download=True, train=True, transform=transform) # Carrega a parte de treino do dataset\n",
        "trainloader = torch.utils.data.DataLoader(trainset, batch_size=64, shuffle=True) # Cria um buffer para pegar os dados por partes\n",
        "\n",
        "valset = datasets.MNIST('./MNIST_data/', download=True, train=True, transform=transform) # Carrega a parte da validação do dataset\n",
        "valset = torch.utils.data.DataLoader(trainset, batch_size=64, shuffle=True) # Cria um buffer para pegar os dados por partes"
      ],
      "metadata": {
        "id": "YUj7SGrauSYy"
      },
      "execution_count": 78,
      "outputs": []
    },
    {
      "cell_type": "code",
      "source": [
        "dataiter = iter(trainloader);\n",
        "imagens, etiquetas = next(dataiter);\n",
        "plt.imshow(imagens[0].numpy().squeeze(), cmap='gray_r');"
      ],
      "metadata": {
        "colab": {
          "base_uri": "https://localhost:8080/",
          "height": 430
        },
        "id": "HdAthdFlw5Ax",
        "outputId": "67915f67-3635-4b0b-897e-8feaa1ddd4c1"
      },
      "execution_count": 79,
      "outputs": [
        {
          "output_type": "display_data",
          "data": {
            "text/plain": [
              "<Figure size 640x480 with 1 Axes>"
            ],
            "image/png": "[encoded data removed]"
          },
          "metadata": {}
        }
      ]
    },
    {
      "cell_type": "code",
      "source": [
        "print(imagens[0].shape) # Para verificar as dimensões do tensor de cada imagem\n",
        "print(etiquetas[0].shape) # Para verificar as dimensões do tensor de cada etiqueta"
      ],
      "metadata": {
        "colab": {
          "base_uri": "https://localhost:8080/"
        },
        "id": "TpIjqlBFyPNY",
        "outputId": "487d4ec6-af82-42fe-b7c7-ae6da45df19e"
      },
      "execution_count": 80,
      "outputs": [
        {
          "output_type": "stream",
          "name": "stdout",
          "text": [
            "torch.Size([1, 28, 28])\n",
            "torch.Size([])\n"
          ]
        }
      ]
    },
    {
      "cell_type": "code",
      "source": [
        "class Modelo(nn.Module):\n",
        "    def _init_(self):\n",
        "        super(Modelo, self)._init_()\n",
        "        self.linear1 = nn.Linear(28*28, 128) # Camada de entrada, 784 neurônios que se ligam a 128\n",
        "        self.linear2 = nn.Linear(128, 64) # Camada interna 1, 128 nuerônios que se ligam a 64\n",
        "        self.linear3 = nn.Linear(64, 10) # Camada interna 2, 64 nuerônios que se ligam a 10\n",
        "        # para a camada de saída não é necessário definir nada pois só precisamos pegar o output da camada interna 2\n",
        "\n",
        "    def forward(self,x):\n",
        "        x = F.relu(self.linear1(x)) # Função de ativação da camada de entrada para a camada interna 1\n",
        "        x = F.relu(self.linear2(x)) # Função de ativação da camada interna 1 para a camada interna 2\n",
        "        x = self.linear3(x) # Função de ativação da camada interna 2 para a camada de saída, nesse caso f(x) = x\n",
        "        return F.log_softmax(x, dim=1) # Dados utilizamos para calcular a perda\n",
        "\n"
      ],
      "metadata": {
        "id": "AvmZcnWs5DBL"
      },
      "execution_count": 81,
      "outputs": []
    },
    {
      "cell_type": "code",
      "source": [
        "def treino (modelo, trainloader, device):\n",
        "\n",
        "    otimizador = optim.SGD(modelo.parameters(), lr=0.01, momentum=0.5) # Define a política de atualização dos pesos e da bias\n",
        "    inicio = time() # Timer para sabermos quanto tempo levou o treino\n",
        "\n",
        "    criterio = nn.NLLLoss # Definido o critério para calcular a perda\n",
        "    EPOCHS = 10 # Numero de epochs que o algoritmo rodará\n",
        "    modelo.train() #Ativando o modo de treinamento do modelo\n",
        "\n",
        "    for epoch in range(EPOCHS):\n",
        "\n",
        "        perda_acumulada = 0 # Inicialização da perda acumuladada epoch em questão\n",
        "\n",
        "        for imagens, etiquetas in trainloader:\n",
        "\n",
        "            imagens = imagens.view(imagens[0], -1) # Convertendo as imagens para \"vetores\" de 28*28 casas para ficarem compativeis\n",
        "            otimizador.zero_grad() # Zerando os gradientes por conta do ciclo anterior\n",
        "\n",
        "            output = modelo(imagens.to(device)) # Colocando os dados no modelo\n",
        "            perda_instantanea = criterio(output, etiquetas.to(device)) # Calculando a perda da epcoh em questão\n",
        "\n",
        "            perda_instantanea.backward() # Back propagation a partir da perda\n",
        "\n",
        "            otimizador.step() # Atualizando os pesos e a bias\n",
        "\n",
        "            perda_acumulada += perda_instantanea.item() # Atualização da perda acumulada\n",
        "\n",
        "        else:\n",
        "            print(\"Epoch {} - Perda Resultante: {}\".format(epoch+1, perda_acumulada/len(trainloader)))\n",
        "            print(\"\\nTempo de Treino (em minutos) =\", (time()-inicio)/60)"
      ],
      "metadata": {
        "id": "Ca9hrEkG7yMT"
      },
      "execution_count": 82,
      "outputs": []
    },
    {
      "cell_type": "code",
      "source": [
        "def validacao(modelo, valloader, device):\n",
        "    conta_corretas, conta_todas = 0, 0\n",
        "    for imagens, etiquetas in valloader:\n",
        "      for i in range(len(etiquetas)):\n",
        "        img = imagens[i].view(1, 784)\n",
        "        # Desativa o autograd para acelerar a validação. GRAFOS COMPUTACIONAIS DINÂMICOS tem um custo alto de processamento\n",
        "        with torch.no_grad():\n",
        "            logps = modelo(img.to(device)) # Output do modelo em escala logaritmica\n",
        "\n",
        "        ps = torch.exp(logps) # Converte output para escala normal(lembrando que é um tensor)\n",
        "        probab = list(ps.cpu().numpy()[0])\n",
        "        etiqueta_pred = probab.index(max(probab)) # Converte o tensor em um número, no caso, o número que o modelo previu\n",
        "        etiqueta_certa = etiquetas.numpy()[i]\n",
        "\n",
        "        if(etiqueta_certa == etiqueta_pred): # Compara a previsão com o valor correto\n",
        "          conta_corretas += 1\n",
        "          conta_todas += 1\n",
        "\n",
        "    print(\"Total de imagens testadas =\", conta_todas)\n",
        "    print(\"\\nPrecisão do modelo = {}%\".format(conta_corretas*100/conta_todas))\n"
      ],
      "metadata": {
        "id": "YpiBPoHLAfwC"
      },
      "execution_count": 83,
      "outputs": []
    },
    {
      "cell_type": "code",
      "source": [
        "modelo = Modelo() # Inicializa o modelo\n",
        "device = torch.device(\"cuda\" if torch.cuda.is_available else \"cpu\") # Modelo rodará na CPU se possível\n",
        "modelo.to(device)"
      ],
      "metadata": {
        "colab": {
          "base_uri": "https://localhost:8080/"
        },
        "id": "t5BBYv4kD9sR",
        "outputId": "04704cae-4c57-45ae-e283-4de12d696ad4"
      },
      "execution_count": 84,
      "outputs": [
        {
          "output_type": "execute_result",
          "data": {
            "text/plain": [
              "Modelo()"
            ]
          },
          "metadata": {},
          "execution_count": 84
        }
      ]
    }
  ]
}